{
 "cells": [
  {
   "cell_type": "markdown",
   "metadata": {},
   "source": [
    "# Using RNN/LSTM to predict Stock Prices\n",
    "\n",
    "Long Short Term Memory(LSTM) Networks are a special type of Recurrent Neural Networks(RNN) which improves the learning of data based on the concept of short term memory. Based on the last 'n' values, predict the next value. "
   ]
  },
  {
   "cell_type": "code",
   "execution_count": 1,
   "metadata": {},
   "outputs": [],
   "source": [
    "import pandas as pd\n",
    "import numpy as np\n",
    "\n",
    "# To remove the scientific notation from numpy arrays\n",
    "np.set_printoptions(suppress=True)"
   ]
  },
  {
   "cell_type": "code",
   "execution_count": 3,
   "metadata": {},
   "outputs": [],
   "source": [
    "# install the nsepy library to get stock prices\n",
    "#!pip install nsepy"
   ]
  },
  {
   "cell_type": "code",
   "execution_count": 4,
   "metadata": {
    "scrolled": true
   },
   "outputs": [
    {
     "name": "stdout",
     "output_type": "stream",
     "text": [
      "(319, 14)\n"
     ]
    },
    {
     "data": {
      "text/html": [
       "<div>\n",
       "<style scoped>\n",
       "    .dataframe tbody tr th:only-of-type {\n",
       "        vertical-align: middle;\n",
       "    }\n",
       "\n",
       "    .dataframe tbody tr th {\n",
       "        vertical-align: top;\n",
       "    }\n",
       "\n",
       "    .dataframe thead th {\n",
       "        text-align: right;\n",
       "    }\n",
       "</style>\n",
       "<table border=\"1\" class=\"dataframe\">\n",
       "  <thead>\n",
       "    <tr style=\"text-align: right;\">\n",
       "      <th></th>\n",
       "      <th>Symbol</th>\n",
       "      <th>Series</th>\n",
       "      <th>Prev Close</th>\n",
       "      <th>Open</th>\n",
       "      <th>High</th>\n",
       "      <th>Low</th>\n",
       "      <th>Last</th>\n",
       "      <th>Close</th>\n",
       "      <th>VWAP</th>\n",
       "      <th>Volume</th>\n",
       "      <th>Turnover</th>\n",
       "      <th>Trades</th>\n",
       "      <th>Deliverable Volume</th>\n",
       "      <th>%Deliverble</th>\n",
       "    </tr>\n",
       "    <tr>\n",
       "      <th>Date</th>\n",
       "      <th></th>\n",
       "      <th></th>\n",
       "      <th></th>\n",
       "      <th></th>\n",
       "      <th></th>\n",
       "      <th></th>\n",
       "      <th></th>\n",
       "      <th></th>\n",
       "      <th></th>\n",
       "      <th></th>\n",
       "      <th></th>\n",
       "      <th></th>\n",
       "      <th></th>\n",
       "      <th></th>\n",
       "    </tr>\n",
       "  </thead>\n",
       "  <tbody>\n",
       "    <tr>\n",
       "      <td>2019-01-01</td>\n",
       "      <td>INFY</td>\n",
       "      <td>EQ</td>\n",
       "      <td>658.95</td>\n",
       "      <td>660.95</td>\n",
       "      <td>666.3</td>\n",
       "      <td>654.15</td>\n",
       "      <td>665.95</td>\n",
       "      <td>665.05</td>\n",
       "      <td>660.66</td>\n",
       "      <td>2943390</td>\n",
       "      <td>1.944579e+14</td>\n",
       "      <td>45422</td>\n",
       "      <td>1282161</td>\n",
       "      <td>0.4356</td>\n",
       "    </tr>\n",
       "    <tr>\n",
       "      <td>2019-01-02</td>\n",
       "      <td>INFY</td>\n",
       "      <td>EQ</td>\n",
       "      <td>665.05</td>\n",
       "      <td>666.00</td>\n",
       "      <td>674.0</td>\n",
       "      <td>662.05</td>\n",
       "      <td>668.00</td>\n",
       "      <td>669.05</td>\n",
       "      <td>669.97</td>\n",
       "      <td>7416655</td>\n",
       "      <td>4.968963e+14</td>\n",
       "      <td>108094</td>\n",
       "      <td>3880800</td>\n",
       "      <td>0.5233</td>\n",
       "    </tr>\n",
       "    <tr>\n",
       "      <td>2019-01-03</td>\n",
       "      <td>INFY</td>\n",
       "      <td>EQ</td>\n",
       "      <td>669.05</td>\n",
       "      <td>672.00</td>\n",
       "      <td>677.0</td>\n",
       "      <td>663.10</td>\n",
       "      <td>668.00</td>\n",
       "      <td>669.15</td>\n",
       "      <td>669.66</td>\n",
       "      <td>6827249</td>\n",
       "      <td>4.571929e+14</td>\n",
       "      <td>125781</td>\n",
       "      <td>3676359</td>\n",
       "      <td>0.5385</td>\n",
       "    </tr>\n",
       "    <tr>\n",
       "      <td>2019-01-04</td>\n",
       "      <td>INFY</td>\n",
       "      <td>EQ</td>\n",
       "      <td>669.15</td>\n",
       "      <td>671.75</td>\n",
       "      <td>673.9</td>\n",
       "      <td>651.00</td>\n",
       "      <td>660.25</td>\n",
       "      <td>661.05</td>\n",
       "      <td>660.17</td>\n",
       "      <td>7889310</td>\n",
       "      <td>5.208305e+14</td>\n",
       "      <td>187590</td>\n",
       "      <td>3747741</td>\n",
       "      <td>0.4750</td>\n",
       "    </tr>\n",
       "    <tr>\n",
       "      <td>2019-01-07</td>\n",
       "      <td>INFY</td>\n",
       "      <td>EQ</td>\n",
       "      <td>661.05</td>\n",
       "      <td>665.00</td>\n",
       "      <td>673.6</td>\n",
       "      <td>661.50</td>\n",
       "      <td>671.70</td>\n",
       "      <td>671.70</td>\n",
       "      <td>667.51</td>\n",
       "      <td>8046340</td>\n",
       "      <td>5.370974e+14</td>\n",
       "      <td>132736</td>\n",
       "      <td>4711672</td>\n",
       "      <td>0.5856</td>\n",
       "    </tr>\n",
       "  </tbody>\n",
       "</table>\n",
       "</div>"
      ],
      "text/plain": [
       "           Symbol Series  Prev Close    Open   High     Low    Last   Close  \\\n",
       "Date                                                                          \n",
       "2019-01-01   INFY     EQ      658.95  660.95  666.3  654.15  665.95  665.05   \n",
       "2019-01-02   INFY     EQ      665.05  666.00  674.0  662.05  668.00  669.05   \n",
       "2019-01-03   INFY     EQ      669.05  672.00  677.0  663.10  668.00  669.15   \n",
       "2019-01-04   INFY     EQ      669.15  671.75  673.9  651.00  660.25  661.05   \n",
       "2019-01-07   INFY     EQ      661.05  665.00  673.6  661.50  671.70  671.70   \n",
       "\n",
       "              VWAP   Volume      Turnover  Trades  Deliverable Volume  \\\n",
       "Date                                                                    \n",
       "2019-01-01  660.66  2943390  1.944579e+14   45422             1282161   \n",
       "2019-01-02  669.97  7416655  4.968963e+14  108094             3880800   \n",
       "2019-01-03  669.66  6827249  4.571929e+14  125781             3676359   \n",
       "2019-01-04  660.17  7889310  5.208305e+14  187590             3747741   \n",
       "2019-01-07  667.51  8046340  5.370974e+14  132736             4711672   \n",
       "\n",
       "            %Deliverble  \n",
       "Date                     \n",
       "2019-01-01       0.4356  \n",
       "2019-01-02       0.5233  \n",
       "2019-01-03       0.5385  \n",
       "2019-01-04       0.4750  \n",
       "2019-01-07       0.5856  "
      ]
     },
     "execution_count": 4,
     "metadata": {},
     "output_type": "execute_result"
    }
   ],
   "source": [
    "# Getting Stock data using nsepy library\n",
    "from nsepy import get_history\n",
    "from datetime import datetime\n",
    "\n",
    "startDate=datetime(2019, 1,1)\n",
    "endDate=datetime(2020, 7, 20)\n",
    "\n",
    "# Fetching the data\n",
    "StockData=get_history(symbol='INFY', start=startDate, end=endDate)\n",
    "print(StockData.shape)\n",
    "StockData.head()"
   ]
  },
  {
   "cell_type": "code",
   "execution_count": 5,
   "metadata": {},
   "outputs": [
    {
     "data": {
      "text/html": [
       "<div>\n",
       "<style scoped>\n",
       "    .dataframe tbody tr th:only-of-type {\n",
       "        vertical-align: middle;\n",
       "    }\n",
       "\n",
       "    .dataframe tbody tr th {\n",
       "        vertical-align: top;\n",
       "    }\n",
       "\n",
       "    .dataframe thead th {\n",
       "        text-align: right;\n",
       "    }\n",
       "</style>\n",
       "<table border=\"1\" class=\"dataframe\">\n",
       "  <thead>\n",
       "    <tr style=\"text-align: right;\">\n",
       "      <th></th>\n",
       "      <th>Symbol</th>\n",
       "      <th>Series</th>\n",
       "      <th>Prev Close</th>\n",
       "      <th>Open</th>\n",
       "      <th>High</th>\n",
       "      <th>Low</th>\n",
       "      <th>Last</th>\n",
       "      <th>Close</th>\n",
       "      <th>VWAP</th>\n",
       "      <th>Volume</th>\n",
       "      <th>Turnover</th>\n",
       "      <th>Trades</th>\n",
       "      <th>Deliverable Volume</th>\n",
       "      <th>%Deliverble</th>\n",
       "      <th>TradeDate</th>\n",
       "    </tr>\n",
       "    <tr>\n",
       "      <th>Date</th>\n",
       "      <th></th>\n",
       "      <th></th>\n",
       "      <th></th>\n",
       "      <th></th>\n",
       "      <th></th>\n",
       "      <th></th>\n",
       "      <th></th>\n",
       "      <th></th>\n",
       "      <th></th>\n",
       "      <th></th>\n",
       "      <th></th>\n",
       "      <th></th>\n",
       "      <th></th>\n",
       "      <th></th>\n",
       "      <th></th>\n",
       "    </tr>\n",
       "  </thead>\n",
       "  <tbody>\n",
       "    <tr>\n",
       "      <td>2020-04-13</td>\n",
       "      <td>INFY</td>\n",
       "      <td>EQ</td>\n",
       "      <td>636.25</td>\n",
       "      <td>629.00</td>\n",
       "      <td>651.7</td>\n",
       "      <td>626.05</td>\n",
       "      <td>637.00</td>\n",
       "      <td>637.40</td>\n",
       "      <td>641.21</td>\n",
       "      <td>8330291</td>\n",
       "      <td>5.341426e+14</td>\n",
       "      <td>232090</td>\n",
       "      <td>3845112</td>\n",
       "      <td>0.4616</td>\n",
       "      <td>2020-04-13</td>\n",
       "    </tr>\n",
       "    <tr>\n",
       "      <td>2020-04-15</td>\n",
       "      <td>INFY</td>\n",
       "      <td>EQ</td>\n",
       "      <td>637.40</td>\n",
       "      <td>651.40</td>\n",
       "      <td>653.3</td>\n",
       "      <td>635.60</td>\n",
       "      <td>640.00</td>\n",
       "      <td>639.05</td>\n",
       "      <td>645.85</td>\n",
       "      <td>11963493</td>\n",
       "      <td>7.726657e+14</td>\n",
       "      <td>278339</td>\n",
       "      <td>7111564</td>\n",
       "      <td>0.5944</td>\n",
       "      <td>2020-04-15</td>\n",
       "    </tr>\n",
       "    <tr>\n",
       "      <td>2020-04-16</td>\n",
       "      <td>INFY</td>\n",
       "      <td>EQ</td>\n",
       "      <td>639.05</td>\n",
       "      <td>619.95</td>\n",
       "      <td>634.9</td>\n",
       "      <td>603.50</td>\n",
       "      <td>626.90</td>\n",
       "      <td>623.85</td>\n",
       "      <td>620.50</td>\n",
       "      <td>17783310</td>\n",
       "      <td>1.103451e+15</td>\n",
       "      <td>254606</td>\n",
       "      <td>9056129</td>\n",
       "      <td>0.5092</td>\n",
       "      <td>2020-04-16</td>\n",
       "    </tr>\n",
       "    <tr>\n",
       "      <td>2020-04-17</td>\n",
       "      <td>INFY</td>\n",
       "      <td>EQ</td>\n",
       "      <td>623.85</td>\n",
       "      <td>644.00</td>\n",
       "      <td>646.0</td>\n",
       "      <td>626.00</td>\n",
       "      <td>634.20</td>\n",
       "      <td>628.75</td>\n",
       "      <td>633.50</td>\n",
       "      <td>8878372</td>\n",
       "      <td>5.624423e+14</td>\n",
       "      <td>220448</td>\n",
       "      <td>4596958</td>\n",
       "      <td>0.5178</td>\n",
       "      <td>2020-04-17</td>\n",
       "    </tr>\n",
       "    <tr>\n",
       "      <td>2020-04-20</td>\n",
       "      <td>INFY</td>\n",
       "      <td>EQ</td>\n",
       "      <td>628.75</td>\n",
       "      <td>640.00</td>\n",
       "      <td>661.0</td>\n",
       "      <td>639.00</td>\n",
       "      <td>650.95</td>\n",
       "      <td>653.30</td>\n",
       "      <td>653.71</td>\n",
       "      <td>13322995</td>\n",
       "      <td>8.709345e+14</td>\n",
       "      <td>220363</td>\n",
       "      <td>4044244</td>\n",
       "      <td>0.3036</td>\n",
       "      <td>2020-04-20</td>\n",
       "    </tr>\n",
       "  </tbody>\n",
       "</table>\n",
       "</div>"
      ],
      "text/plain": [
       "           Symbol Series  Prev Close    Open   High     Low    Last   Close  \\\n",
       "Date                                                                          \n",
       "2020-04-13   INFY     EQ      636.25  629.00  651.7  626.05  637.00  637.40   \n",
       "2020-04-15   INFY     EQ      637.40  651.40  653.3  635.60  640.00  639.05   \n",
       "2020-04-16   INFY     EQ      639.05  619.95  634.9  603.50  626.90  623.85   \n",
       "2020-04-17   INFY     EQ      623.85  644.00  646.0  626.00  634.20  628.75   \n",
       "2020-04-20   INFY     EQ      628.75  640.00  661.0  639.00  650.95  653.30   \n",
       "\n",
       "              VWAP    Volume      Turnover  Trades  Deliverable Volume  \\\n",
       "Date                                                                     \n",
       "2020-04-13  641.21   8330291  5.341426e+14  232090             3845112   \n",
       "2020-04-15  645.85  11963493  7.726657e+14  278339             7111564   \n",
       "2020-04-16  620.50  17783310  1.103451e+15  254606             9056129   \n",
       "2020-04-17  633.50   8878372  5.624423e+14  220448             4596958   \n",
       "2020-04-20  653.71  13322995  8.709345e+14  220363             4044244   \n",
       "\n",
       "            %Deliverble   TradeDate  \n",
       "Date                                 \n",
       "2020-04-13       0.4616  2020-04-13  \n",
       "2020-04-15       0.5944  2020-04-15  \n",
       "2020-04-16       0.5092  2020-04-16  \n",
       "2020-04-17       0.5178  2020-04-17  \n",
       "2020-04-20       0.3036  2020-04-20  "
      ]
     },
     "execution_count": 5,
     "metadata": {},
     "output_type": "execute_result"
    }
   ],
   "source": [
    "# Creating a column as date\n",
    "StockData['TradeDate']=StockData.index\n",
    "StockData.tail()"
   ]
  },
  {
   "cell_type": "markdown",
   "metadata": {},
   "source": [
    "### Plotting the closing  prices of stock"
   ]
  },
  {
   "cell_type": "code",
   "execution_count": 6,
   "metadata": {},
   "outputs": [
    {
     "data": {
      "text/plain": [
       "<matplotlib.axes._subplots.AxesSubplot at 0x13b554b90>"
      ]
     },
     "execution_count": 6,
     "metadata": {},
     "output_type": "execute_result"
    },
    {
     "data": {
      "image/png": "[encoded data removed]",
      "text/plain": [
       "<Figure size 1440x432 with 1 Axes>"
      ]
     },
     "metadata": {
      "needs_background": "light"
     },
     "output_type": "display_data"
    }
   ],
   "source": [
    "%matplotlib inline\n",
    "StockData.plot(x='TradeDate', y='Close', kind='line', figsize=(20,6), rot=20)"
   ]
  },
  {
   "cell_type": "markdown",
   "metadata": {},
   "source": [
    "### Preparing the data"
   ]
  },
  {
   "cell_type": "code",
   "execution_count": 7,
   "metadata": {},
   "outputs": [
    {
     "data": {
      "text/plain": [
       "array([[665.05],\n",
       "       [669.05],\n",
       "       [669.15],\n",
       "       [661.05],\n",
       "       [671.7 ]])"
      ]
     },
     "execution_count": 7,
     "metadata": {},
     "output_type": "execute_result"
    }
   ],
   "source": [
    "FullData=StockData[['Close']].values\n",
    "FullData[0:5]"
   ]
  },
  {
   "cell_type": "code",
   "execution_count": null,
   "metadata": {},
   "outputs": [],
   "source": []
  },
  {
   "cell_type": "markdown",
   "metadata": {},
   "source": [
    "### Feature Scaling for fast training"
   ]
  },
  {
   "cell_type": "code",
   "execution_count": 8,
   "metadata": {},
   "outputs": [
    {
     "data": {
      "text/plain": [
       "array([[0.4418234 ],\n",
       "       [0.45457443],\n",
       "       [0.45489321],\n",
       "       [0.42907236],\n",
       "       [0.463022  ]])"
      ]
     },
     "execution_count": 8,
     "metadata": {},
     "output_type": "execute_result"
    }
   ],
   "source": [
    "# Feature Scaling for fast training of neural networks\n",
    "from sklearn.preprocessing import StandardScaler, MinMaxScaler\n",
    "\n",
    "# Choosing between Standardization or normalization\n",
    "#sc = StandardScaler()\n",
    "sc=MinMaxScaler()\n",
    "\n",
    "DataScaler = sc.fit(FullData)\n",
    "X=DataScaler.transform(FullData)\n",
    "#X=FullData\n",
    "\n",
    "X[0:5]"
   ]
  },
  {
   "cell_type": "code",
   "execution_count": 9,
   "metadata": {},
   "outputs": [],
   "source": [
    "# split into samples\n",
    "X_samples = list()\n",
    "y_samples = list()\n",
    "\n",
    "NumerOfRows = len(X)\n",
    "TimeSteps=10  # next day's Price Prediction is based on last how many past day's prices\n",
    "\n",
    "# Iterate thru the values to create combinations\n",
    "for i in range(TimeSteps , NumerOfRows , 1):\n",
    "    x_sample = X[i-TimeSteps:i]\n",
    "    y_sample = X[i]\n",
    "    X_samples.append(x_sample)\n",
    "    y_samples.append(y_sample)"
   ]
  },
  {
   "cell_type": "code",
   "execution_count": 10,
   "metadata": {},
   "outputs": [
    {
     "data": {
      "text/plain": [
       "(309, 10, 1)"
      ]
     },
     "execution_count": 10,
     "metadata": {},
     "output_type": "execute_result"
    }
   ],
   "source": [
    "# Reshape the Input as a 3D (samples, Time Steps, Features)\n",
    "X_data=np.array(X_samples)\n",
    "X_data=X_data.reshape(X_data.shape[0],X_data.shape[1], 1)\n",
    "X_data.shape"
   ]
  },
  {
   "cell_type": "code",
   "execution_count": 11,
   "metadata": {},
   "outputs": [
    {
     "data": {
      "text/plain": [
       "(309, 1)"
      ]
     },
     "execution_count": 11,
     "metadata": {},
     "output_type": "execute_result"
    }
   ],
   "source": [
    "# We do not reshape y as a 3D data  as it is supposed to be a single column only\n",
    "y_data=np.array(y_samples)\n",
    "y_data=y_data.reshape(y_data.shape[0], 1)\n",
    "y_data.shape"
   ]
  },
  {
   "cell_type": "code",
   "execution_count": 12,
   "metadata": {},
   "outputs": [],
   "source": [
    "# Choosing the number of testing data records\n",
    "TestingRecords=10\n",
    "\n",
    "# Splitting the data into train and test\n",
    "X_train=X_data[:-TestingRecords]\n",
    "X_test=X_data[-TestingRecords:]\n",
    "y_train=y_data[:-TestingRecords]\n",
    "y_test=y_data[-TestingRecords:]"
   ]
  },
  {
   "cell_type": "code",
   "execution_count": 13,
   "metadata": {},
   "outputs": [
    {
     "name": "stdout",
     "output_type": "stream",
     "text": [
      "(299, 10, 1)\n",
      "(299, 1)\n",
      "(10, 10, 1)\n",
      "(10, 1)\n"
     ]
    }
   ],
   "source": [
    "# Printing the shape of training and testing\n",
    "print(X_train.shape)\n",
    "print(y_train.shape)\n",
    "print(X_test.shape)\n",
    "print(y_test.shape)"
   ]
  },
  {
   "cell_type": "code",
   "execution_count": null,
   "metadata": {},
   "outputs": [],
   "source": []
  },
  {
   "cell_type": "code",
   "execution_count": 14,
   "metadata": {},
   "outputs": [
    {
     "name": "stdout",
     "output_type": "stream",
     "text": [
      "[[0.4418234 ]\n",
      " [0.45457443]\n",
      " [0.45489321]\n",
      " [0.42907236]\n",
      " [0.463022  ]\n",
      " [0.45776219]\n",
      " [0.47704814]\n",
      " [0.48852407]\n",
      " [0.50063755]\n",
      " [0.55929232]] --> [0.63802996]\n",
      "[[0.45457443]\n",
      " [0.45489321]\n",
      " [0.42907236]\n",
      " [0.463022  ]\n",
      " [0.45776219]\n",
      " [0.47704814]\n",
      " [0.48852407]\n",
      " [0.50063755]\n",
      " [0.55929232]\n",
      " [0.63802996]] --> [0.67054511]\n",
      "[[0.45489321]\n",
      " [0.42907236]\n",
      " [0.463022  ]\n",
      " [0.45776219]\n",
      " [0.47704814]\n",
      " [0.48852407]\n",
      " [0.50063755]\n",
      " [0.55929232]\n",
      " [0.63802996]\n",
      " [0.67054511]] --> [0.65954734]\n",
      "[[0.42907236]\n",
      " [0.463022  ]\n",
      " [0.45776219]\n",
      " [0.47704814]\n",
      " [0.48852407]\n",
      " [0.50063755]\n",
      " [0.55929232]\n",
      " [0.63802996]\n",
      " [0.67054511]\n",
      " [0.65954734]] --> [0.65189672]\n",
      "[[0.463022  ]\n",
      " [0.45776219]\n",
      " [0.47704814]\n",
      " [0.48852407]\n",
      " [0.50063755]\n",
      " [0.55929232]\n",
      " [0.63802996]\n",
      " [0.67054511]\n",
      " [0.65954734]\n",
      " [0.65189672]] --> [0.69668473]\n"
     ]
    }
   ],
   "source": [
    "# Visualizing the input and output being sent to the LSTM model\n",
    "for inp, out in zip(X_train[0:5], y_train[0:5]):\n",
    "    print(inp,'-->', out)"
   ]
  },
  {
   "cell_type": "code",
   "execution_count": 15,
   "metadata": {},
   "outputs": [
    {
     "name": "stdout",
     "output_type": "stream",
     "text": [
      "Number of TimeSteps: 10\n",
      "Number of Features: 1\n"
     ]
    }
   ],
   "source": [
    "# Defining Input shapes for LSTM\n",
    "TimeSteps=X_train.shape[1]\n",
    "TotalFeatures=X_train.shape[2]\n",
    "print(\"Number of TimeSteps:\", TimeSteps)\n",
    "print(\"Number of Features:\", TotalFeatures)"
   ]
  },
  {
   "cell_type": "markdown",
   "metadata": {},
   "source": [
    "### Fitting the Deep Learning LSTM model"
   ]
  },
  {
   "cell_type": "code",
   "execution_count": 18,
   "metadata": {},
   "outputs": [],
   "source": [
    "# Importing the Keras libraries and packages\n",
    "from keras.models import Sequential\n",
    "from keras.layers import Dense\n",
    "from keras.layers import LSTM\n",
    "\n",
    "# Initialising the RNN\n",
    "regressor = Sequential()\n",
    "\n",
    "# Adding the First input hidden layer and the LSTM layer\n",
    "# return_sequences = True, means the output of every time step to be shared with hidden next layer\n",
    "regressor.add(LSTM(units = 10, activation = 'relu', input_shape = (TimeSteps, TotalFeatures), return_sequences=True))\n",
    "\n",
    "\n",
    "# Adding the Second Second hidden layer and the LSTM layer\n",
    "regressor.add(LSTM(units = 5, activation = 'relu', input_shape = (TimeSteps, TotalFeatures), return_sequences=True))\n",
    "\n",
    "# Adding the Second Third hidden layer and the LSTM layer\n",
    "regressor.add(LSTM(units = 5, activation = 'relu', return_sequences=False ))\n",
    "\n",
    "\n",
    "# Adding the output layer\n",
    "regressor.add(Dense(units = 1))\n",
    "\n",
    "# Compiling the RNN\n",
    "regressor.compile(optimizer = 'adam', loss = 'mean_squared_error')"
   ]
  },
  {
   "cell_type": "code",
   "execution_count": 20,
   "metadata": {
    "scrolled": true
   },
   "outputs": [
    {
     "name": "stdout",
     "output_type": "stream",
     "text": [
      "Epoch 1/100\n",
      "299/299 [==============================] - 1s 4ms/step - loss: 0.0084\n",
      "Epoch 2/100\n",
      "299/299 [==============================] - 1s 4ms/step - loss: 0.0082\n",
      "Epoch 3/100\n",
      "299/299 [==============================] - 1s 5ms/step - loss: 0.0076\n",
      "Epoch 4/100\n",
      "299/299 [==============================] - 2s 5ms/step - loss: 0.0079\n",
      "Epoch 5/100\n",
      "299/299 [==============================] - 1s 4ms/step - loss: 0.0071\n",
      "Epoch 6/100\n",
      "299/299 [==============================] - 1s 4ms/step - loss: 0.0068\n",
      "Epoch 7/100\n",
      "299/299 [==============================] - 1s 4ms/step - loss: 0.0072\n",
      "Epoch 8/100\n",
      "299/299 [==============================] - 1s 4ms/step - loss: 0.0061\n",
      "Epoch 9/100\n",
      "299/299 [==============================] - 1s 4ms/step - loss: 0.0062\n",
      "Epoch 10/100\n",
      "299/299 [==============================] - 1s 4ms/step - loss: 0.0063\n",
      "Epoch 11/100\n",
      "299/299 [==============================] - 1s 3ms/step - loss: 0.0059\n",
      "Epoch 12/100\n",
      "299/299 [==============================] - 1s 4ms/step - loss: 0.0059\n",
      "Epoch 13/100\n",
      "299/299 [==============================] - 1s 4ms/step - loss: 0.0058\n",
      "Epoch 14/100\n",
      "299/299 [==============================] - 1s 3ms/step - loss: 0.0055\n",
      "Epoch 15/100\n",
      "299/299 [==============================] - 1s 3ms/step - loss: 0.0052\n",
      "Epoch 16/100\n",
      "299/299 [==============================] - 1s 4ms/step - loss: 0.0054\n",
      "Epoch 17/100\n",
      "299/299 [==============================] - 1s 3ms/step - loss: 0.0053\n",
      "Epoch 18/100\n",
      "299/299 [==============================] - 1s 3ms/step - loss: 0.0059\n",
      "Epoch 19/100\n",
      "299/299 [==============================] - 1s 3ms/step - loss: 0.0049\n",
      "Epoch 20/100\n",
      "299/299 [==============================] - 1s 3ms/step - loss: 0.0049\n",
      "Epoch 21/100\n",
      "299/299 [==============================] - 1s 3ms/step - loss: 0.0053\n",
      "Epoch 22/100\n",
      "299/299 [==============================] - 1s 4ms/step - loss: 0.0048\n",
      "Epoch 23/100\n",
      "299/299 [==============================] - 1s 4ms/step - loss: 0.0049\n",
      "Epoch 24/100\n",
      "299/299 [==============================] - 1s 4ms/step - loss: 0.0048\n",
      "Epoch 25/100\n",
      "299/299 [==============================] - 1s 4ms/step - loss: 0.0046\n",
      "Epoch 26/100\n",
      "299/299 [==============================] - 1s 3ms/step - loss: 0.0045\n",
      "Epoch 27/100\n",
      "299/299 [==============================] - 1s 3ms/step - loss: 0.0044\n",
      "Epoch 28/100\n",
      "299/299 [==============================] - 1s 3ms/step - loss: 0.0042\n",
      "Epoch 29/100\n",
      "299/299 [==============================] - 1s 3ms/step - loss: 0.0051\n",
      "Epoch 30/100\n",
      "299/299 [==============================] - 1s 4ms/step - loss: 0.0045\n",
      "Epoch 31/100\n",
      "299/299 [==============================] - 1s 4ms/step - loss: 0.0043\n",
      "Epoch 32/100\n",
      "299/299 [==============================] - 1s 3ms/step - loss: 0.0040\n",
      "Epoch 33/100\n",
      "299/299 [==============================] - 1s 3ms/step - loss: 0.0044\n",
      "Epoch 34/100\n",
      "299/299 [==============================] - 1s 3ms/step - loss: 0.0039\n",
      "Epoch 35/100\n",
      "299/299 [==============================] - 1s 3ms/step - loss: 0.0040\n",
      "Epoch 36/100\n",
      "299/299 [==============================] - 1s 4ms/step - loss: 0.0039\n",
      "Epoch 37/100\n",
      "299/299 [==============================] - 1s 4ms/step - loss: 0.0038\n",
      "Epoch 38/100\n",
      "299/299 [==============================] - 1s 4ms/step - loss: 0.0037\n",
      "Epoch 39/100\n",
      "299/299 [==============================] - 1s 4ms/step - loss: 0.0039\n",
      "Epoch 40/100\n",
      "299/299 [==============================] - 1s 3ms/step - loss: 0.0038\n",
      "Epoch 41/100\n",
      "299/299 [==============================] - 1s 3ms/step - loss: 0.0034\n",
      "Epoch 42/100\n",
      "299/299 [==============================] - 1s 3ms/step - loss: 0.0035\n",
      "Epoch 43/100\n",
      "299/299 [==============================] - 1s 3ms/step - loss: 0.0034\n",
      "Epoch 44/100\n",
      "299/299 [==============================] - 1s 3ms/step - loss: 0.0034\n",
      "Epoch 45/100\n",
      "299/299 [==============================] - 1s 4ms/step - loss: 0.0034\n",
      "Epoch 46/100\n",
      "299/299 [==============================] - 1s 4ms/step - loss: 0.0033\n",
      "Epoch 47/100\n",
      "299/299 [==============================] - 1s 4ms/step - loss: 0.0035\n",
      "Epoch 48/100\n",
      "299/299 [==============================] - 1s 4ms/step - loss: 0.0033\n",
      "Epoch 49/100\n",
      "299/299 [==============================] - 1s 4ms/step - loss: 0.0035\n",
      "Epoch 50/100\n",
      "299/299 [==============================] - 1s 4ms/step - loss: 0.0031\n",
      "Epoch 51/100\n",
      "299/299 [==============================] - 1s 3ms/step - loss: 0.0040\n",
      "Epoch 52/100\n",
      "299/299 [==============================] - 1s 3ms/step - loss: 0.0033\n",
      "Epoch 53/100\n",
      "299/299 [==============================] - 1s 3ms/step - loss: 0.0031\n",
      "Epoch 54/100\n",
      "299/299 [==============================] - 1s 3ms/step - loss: 0.0030\n",
      "Epoch 55/100\n",
      "299/299 [==============================] - 1s 3ms/step - loss: 0.0033\n",
      "Epoch 56/100\n",
      "299/299 [==============================] - 1s 3ms/step - loss: 0.0033\n",
      "Epoch 57/100\n",
      "299/299 [==============================] - 1s 3ms/step - loss: 0.0030\n",
      "Epoch 58/100\n",
      "299/299 [==============================] - 1s 3ms/step - loss: 0.0028\n",
      "Epoch 59/100\n",
      "299/299 [==============================] - 1s 3ms/step - loss: 0.0031\n",
      "Epoch 60/100\n",
      "299/299 [==============================] - 1s 3ms/step - loss: 0.0030\n",
      "Epoch 61/100\n",
      "299/299 [==============================] - 1s 4ms/step - loss: 0.0029\n",
      "Epoch 62/100\n",
      "299/299 [==============================] - 1s 4ms/step - loss: 0.0030\n",
      "Epoch 63/100\n",
      "299/299 [==============================] - 1s 3ms/step - loss: 0.0035\n",
      "Epoch 64/100\n",
      "299/299 [==============================] - 1s 4ms/step - loss: 0.0029\n",
      "Epoch 65/100\n",
      "299/299 [==============================] - 1s 4ms/step - loss: 0.0028\n",
      "Epoch 66/100\n",
      "299/299 [==============================] - 1s 3ms/step - loss: 0.0027\n",
      "Epoch 67/100\n",
      "299/299 [==============================] - 1s 3ms/step - loss: 0.0030\n",
      "Epoch 68/100\n",
      "299/299 [==============================] - 1s 3ms/step - loss: 0.0031\n",
      "Epoch 69/100\n",
      "299/299 [==============================] - 1s 3ms/step - loss: 0.0028\n",
      "Epoch 70/100\n",
      "299/299 [==============================] - 1s 3ms/step - loss: 0.0029\n",
      "Epoch 71/100\n",
      "299/299 [==============================] - 1s 3ms/step - loss: 0.0026\n",
      "Epoch 72/100\n",
      "299/299 [==============================] - 1s 3ms/step - loss: 0.0025\n",
      "Epoch 73/100\n",
      "299/299 [==============================] - 1s 3ms/step - loss: 0.0027\n",
      "Epoch 74/100\n",
      "299/299 [==============================] - 1s 3ms/step - loss: 0.0027\n",
      "Epoch 75/100\n",
      "299/299 [==============================] - 1s 3ms/step - loss: 0.0027\n",
      "Epoch 76/100\n",
      "299/299 [==============================] - 1s 3ms/step - loss: 0.0029\n",
      "Epoch 77/100\n",
      "299/299 [==============================] - 1s 3ms/step - loss: 0.0031\n",
      "Epoch 78/100\n",
      "299/299 [==============================] - 1s 3ms/step - loss: 0.0026\n",
      "Epoch 79/100\n",
      "299/299 [==============================] - 1s 3ms/step - loss: 0.0026\n",
      "Epoch 80/100\n",
      "299/299 [==============================] - 1s 3ms/step - loss: 0.0027\n",
      "Epoch 81/100\n",
      "299/299 [==============================] - 1s 3ms/step - loss: 0.0025\n",
      "Epoch 82/100\n",
      "299/299 [==============================] - 1s 4ms/step - loss: 0.0028\n",
      "Epoch 83/100\n",
      "299/299 [==============================] - 1s 4ms/step - loss: 0.0026\n",
      "Epoch 84/100\n",
      "299/299 [==============================] - 1s 3ms/step - loss: 0.0026\n",
      "Epoch 85/100\n",
      "299/299 [==============================] - 1s 3ms/step - loss: 0.0025\n",
      "Epoch 86/100\n",
      "299/299 [==============================] - 1s 4ms/step - loss: 0.0026\n",
      "Epoch 87/100\n",
      "299/299 [==============================] - 1s 4ms/step - loss: 0.0025\n",
      "Epoch 88/100\n",
      "299/299 [==============================] - 1s 4ms/step - loss: 0.0031\n",
      "Epoch 89/100\n",
      "299/299 [==============================] - 1s 4ms/step - loss: 0.0027\n",
      "Epoch 90/100\n",
      "299/299 [==============================] - 1s 4ms/step - loss: 0.0031\n",
      "Epoch 91/100\n",
      "299/299 [==============================] - 1s 4ms/step - loss: 0.0025\n",
      "Epoch 92/100\n",
      "299/299 [==============================] - 1s 4ms/step - loss: 0.0025\n",
      "Epoch 93/100\n",
      "299/299 [==============================] - 1s 4ms/step - loss: 0.0026\n",
      "Epoch 94/100\n",
      "299/299 [==============================] - 1s 5ms/step - loss: 0.0025\n",
      "Epoch 95/100\n",
      "299/299 [==============================] - 1s 5ms/step - loss: 0.0024\n",
      "Epoch 96/100\n",
      "299/299 [==============================] - 1s 4ms/step - loss: 0.0024\n",
      "Epoch 97/100\n",
      "299/299 [==============================] - 1s 4ms/step - loss: 0.0027\n",
      "Epoch 98/100\n",
      "299/299 [==============================] - 1s 3ms/step - loss: 0.0027\n",
      "Epoch 99/100\n",
      "299/299 [==============================] - 1s 3ms/step - loss: 0.0025\n",
      "Epoch 100/100\n",
      "299/299 [==============================] - 1s 3ms/step - loss: 0.0025\n",
      "############### Total Time Taken:  2 Minutes #############\n"
     ]
    }
   ],
   "source": [
    "import time\n",
    "# Measuring the time taken by the model to train\n",
    "StartTime=time.time()\n",
    "\n",
    "# Fitting the RNN to the Training set\n",
    "regressor.fit(X_train, y_train, batch_size = 5, epochs = 100)\n",
    "\n",
    "EndTime=time.time()\n",
    "print(\"############### Total Time Taken: \", round((EndTime-StartTime)/60), 'Minutes #############')"
   ]
  },
  {
   "cell_type": "code",
   "execution_count": null,
   "metadata": {
    "collapsed": true
   },
   "outputs": [],
   "source": []
  },
  {
   "cell_type": "markdown",
   "metadata": {},
   "source": [
    "### Generating predictions on testing data"
   ]
  },
  {
   "cell_type": "code",
   "execution_count": 21,
   "metadata": {
    "scrolled": true
   },
   "outputs": [
    {
     "data": {
      "text/plain": [
       "array([[661.3167 ],\n",
       "       [652.0507 ],\n",
       "       [635.09375],\n",
       "       [644.3854 ],\n",
       "       [651.93976],\n",
       "       [658.9933 ],\n",
       "       [662.9178 ],\n",
       "       [665.9012 ],\n",
       "       [659.83936],\n",
       "       [657.39136]], dtype=float32)"
      ]
     },
     "execution_count": 21,
     "metadata": {},
     "output_type": "execute_result"
    }
   ],
   "source": [
    "# Making predictions on test data\n",
    "predicted_Price = regressor.predict(X_test)\n",
    "predicted_Price = DataScaler.inverse_transform(predicted_Price)\n",
    "predicted_Price"
   ]
  },
  {
   "cell_type": "code",
   "execution_count": 22,
   "metadata": {},
   "outputs": [
    {
     "data": {
      "text/plain": [
       "array([[602.8 ],\n",
       "       [585.7 ],\n",
       "       [639.  ],\n",
       "       [631.6 ],\n",
       "       [636.25],\n",
       "       [637.4 ],\n",
       "       [639.05],\n",
       "       [623.85],\n",
       "       [628.75],\n",
       "       [653.3 ]])"
      ]
     },
     "execution_count": 22,
     "metadata": {},
     "output_type": "execute_result"
    }
   ],
   "source": [
    "# Getting the original price values for testing data\n",
    "orig=y_test\n",
    "orig=DataScaler.inverse_transform(y_test)\n",
    "orig"
   ]
  },
  {
   "cell_type": "markdown",
   "metadata": {},
   "source": [
    "### Measuring the Accuracy of predictions"
   ]
  },
  {
   "cell_type": "code",
   "execution_count": 23,
   "metadata": {},
   "outputs": [
    {
     "data": {
      "text/plain": [
       "95.44284236619102"
      ]
     },
     "execution_count": 23,
     "metadata": {},
     "output_type": "execute_result"
    }
   ],
   "source": [
    "# Accuracy of the predictions\n",
    "100 - (100*(abs(orig-predicted_Price)/orig)).mean()"
   ]
  },
  {
   "cell_type": "markdown",
   "metadata": {},
   "source": [
    "### Plotting the predictions for Testing data"
   ]
  },
  {
   "cell_type": "code",
   "execution_count": 24,
   "metadata": {},
   "outputs": [
    {
     "data": {
      "image/png": "[encoded data removed]",
      "text/plain": [
       "<Figure size 1440x432 with 1 Axes>"
      ]
     },
     "metadata": {
      "needs_background": "light"
     },
     "output_type": "display_data"
    }
   ],
   "source": [
    "# Visualising the results\n",
    "import matplotlib.pyplot as plt\n",
    "\n",
    "plt.plot(predicted_Price, color = 'blue', label = 'Predicted Volume')\n",
    "plt.plot(orig, color = 'lightblue', label = 'Original Volume')\n",
    "\n",
    "plt.title('Stock Price Predictions')\n",
    "plt.xlabel('Trading Date')\n",
    "plt.xticks(range(TestingRecords), StockData.tail(TestingRecords)['TradeDate'])\n",
    "plt.ylabel('Stock Price')\n",
    "\n",
    "plt.legend()\n",
    "fig=plt.gcf()\n",
    "fig.set_figwidth(20)\n",
    "fig.set_figheight(6)\n",
    "plt.show()"
   ]
  },
  {
   "cell_type": "code",
   "execution_count": null,
   "metadata": {
    "collapsed": true
   },
   "outputs": [],
   "source": []
  },
  {
   "cell_type": "markdown",
   "metadata": {
    "collapsed": true
   },
   "source": [
    "### Plotting the predictions for full data"
   ]
  },
  {
   "cell_type": "code",
   "execution_count": 25,
   "metadata": {},
   "outputs": [
    {
     "data": {
      "image/png": "[encoded data removed]",
      "text/plain": [
       "<Figure size 1440x576 with 1 Axes>"
      ]
     },
     "metadata": {
      "needs_background": "light"
     },
     "output_type": "display_data"
    }
   ],
   "source": [
    "# Generating predictions on full data\n",
    "TrainPredictions=DataScaler.inverse_transform(regressor.predict(X_train))\n",
    "TestPredictions=DataScaler.inverse_transform(regressor.predict(X_test))\n",
    "\n",
    "FullDataPredictions=np.append(TrainPredictions, TestPredictions)\n",
    "FullDataOrig=FullData[TimeSteps:]\n",
    "\n",
    "# plotting the full data\n",
    "plt.plot(FullDataPredictions, color = 'blue', label = 'Predicted Price')\n",
    "plt.plot(FullDataOrig , color = 'lightblue', label = 'Original Price')\n",
    "\n",
    "\n",
    "plt.title('Stock Price Predictions')\n",
    "plt.xlabel('Trading Date')\n",
    "plt.ylabel('Stock Price')\n",
    "plt.legend()\n",
    "fig=plt.gcf()\n",
    "fig.set_figwidth(20)\n",
    "fig.set_figheight(8)\n",
    "plt.show()"
   ]
  },
  {
   "cell_type": "code",
   "execution_count": null,
   "metadata": {
    "collapsed": true
   },
   "outputs": [],
   "source": []
  },
  {
   "cell_type": "code",
   "execution_count": null,
   "metadata": {
    "collapsed": true
   },
   "outputs": [],
   "source": []
  }
 ],
 "metadata": {
  "kernelspec": {
   "display_name": "Python 3",
   "language": "python",
   "name": "python3"
  },
  "language_info": {
   "codemirror_mode": {
    "name": "ipython",
    "version": 3
   },
   "file_extension": ".py",
   "mimetype": "text/x-python",
   "name": "python",
   "nbconvert_exporter": "python",
   "pygments_lexer": "ipython3",
   "version": "3.7.4"
  }
 },
 "nbformat": 4,
 "nbformat_minor": 2
}
